{
 "cells": [
  {
   "cell_type": "markdown",
   "source": [
    "# User generation"
   ],
   "metadata": {
    "collapsed": false
   }
  },
  {
   "cell_type": "code",
   "execution_count": null,
   "metadata": {
    "collapsed": true
   },
   "outputs": [],
   "source": [
    "import requests as r\n",
    "import json\n",
    "from time import sleep\n",
    "from IPython.display import clear_output\n",
    "import hashlib\n",
    "from pathlib import Path\n"
   ]
  },
  {
   "cell_type": "code",
   "execution_count": null,
   "outputs": [],
   "source": [
    "path = {\n",
    "    'users':'..\\\\data\\\\users',\n",
    "    'clean':'..\\\\data\\\\clean',\n",
    "    'database':'..\\\\database\\\\news.db'\n",
    "}\n",
    "\n",
    "Path('..\\\\data\\\\clean').mkdir(parents=True, exist_ok=True)\n",
    "Path('..\\\\data\\\\users').mkdir(parents=True, exist_ok=True)\n"
   ],
   "metadata": {
    "collapsed": false
   }
  },
  {
   "cell_type": "markdown",
   "source": [
    "## Delay requests"
   ],
   "metadata": {
    "collapsed": false
   }
  },
  {
   "cell_type": "code",
   "execution_count": null,
   "outputs": [],
   "source": [
    "users = []\n",
    "n_users = 150000\n",
    "users_per_req = 2000\n",
    "\n",
    "for index in range(0, int(n_users/users_per_req)):\n",
    "\n",
    "    users_json = r.get(f'https://randomuser.me/api/?results={users_per_req}&exc=phone,nat,id,registered').json()\n",
    "    if 'error' in users_json:\n",
    "        print(users_json['error'])\n",
    "        break\n",
    "    users.extend(users_json['results'])\n",
    "    clear_output(wait=True)\n",
    "    print(f'Generated users: {len(users)}')\n",
    "\n",
    "    sleep(30)\n",
    "\n",
    "with open(f\"{path['users']}\\\\users.json\", 'w') as fout:\n",
    "    json.dump(users, fout, indent=1)"
   ],
   "metadata": {
    "collapsed": false
   }
  },
  {
   "cell_type": "markdown",
   "source": [
    "## Data cleaning"
   ],
   "metadata": {
    "collapsed": false
   }
  },
  {
   "cell_type": "code",
   "execution_count": null,
   "outputs": [],
   "source": [
    "with open(f\"{path['users']}\\\\users.json\", 'r') as fin:\n",
    "    users = json.load(fin)\n",
    "\n",
    "print(len(users))"
   ],
   "metadata": {
    "collapsed": false
   }
  },
  {
   "cell_type": "code",
   "execution_count": null,
   "outputs": [],
   "source": [
    "fields = users[0].keys()\n",
    "\n",
    "sub_fields = [\n",
    "    None,\n",
    "     ['first', 'last'],\n",
    "     ['street', 'city', 'state', 'country', 'postcode'],\n",
    "     None,\n",
    "     ['password'],\n",
    "     ['date'],\n",
    "     None,\n",
    "     ['large']\n",
    "]\n",
    "\n",
    "users_filtered = []\n",
    "for user in users:\n",
    "    user_filtered = {}\n",
    "    for key, sub_keys in zip(fields, sub_fields):\n",
    "        if key == 'dob':\n",
    "             user_filtered[key] = user[key]['date'].split('T')[0]\n",
    "        elif key == 'login':\n",
    "             user_filtered['password'] = hashlib.sha256(user['email'].split('@')[0].encode('UTF-8')).hexdigest()\n",
    "        elif key == 'name':\n",
    "            user_filtered[key] = ' '.join([user[key][sub_key] for sub_key in sub_keys])\n",
    "        elif key == 'location':\n",
    "            user_filtered['location'] = f\"{user[key]['street']['name']}, {user[key]['street']['number']} - {user[key]['city']}, {user[key]['state']}, {user[key]['postcode']}\"\n",
    "            user_filtered['country'] = user[key]['country']\n",
    "        elif sub_keys is None and key == 'email':\n",
    "             user_filtered[key] = user[key].replace('example','gmail')\n",
    "        elif sub_keys is None:\n",
    "            user_filtered[key] = user[key]\n",
    "        elif len(sub_keys) == 1:\n",
    "            user_filtered[key] = user[key][sub_keys[0]]\n",
    "        else:\n",
    "            user_filtered[key] = dict([(sub_key, user[key][sub_key]) for sub_key in sub_keys])\n",
    "\n",
    "    for key in user_filtered.keys():\n",
    "        user_filtered[key] = user_filtered[key].encode('ascii','xmlcharrefreplace').decode('ascii')\n",
    "    if user_filtered['country'] != 'Iran':\n",
    "        users_filtered.append(user_filtered)\n",
    "\n",
    "with open(f\"{path['clean']}\\\\users_filtered.json\", 'w') as fout:\n",
    "    json.dump(users_filtered, fout, indent=1)"
   ],
   "metadata": {
    "collapsed": false
   }
  }
 ],
 "metadata": {
  "kernelspec": {
   "display_name": "Python 3",
   "language": "python",
   "name": "python3"
  },
  "language_info": {
   "codemirror_mode": {
    "name": "ipython",
    "version": 2
   },
   "file_extension": ".py",
   "mimetype": "text/x-python",
   "name": "python",
   "nbconvert_exporter": "python",
   "pygments_lexer": "ipython2",
   "version": "2.7.6"
  }
 },
 "nbformat": 4,
 "nbformat_minor": 0
}
