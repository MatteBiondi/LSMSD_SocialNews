{
 "cells": [
  {
   "cell_type": "markdown",
   "metadata": {
    "collapsed": false
   },
   "source": [
    "# User generation"
   ]
  },
  {
   "cell_type": "code",
   "execution_count": 2,
   "metadata": {
    "collapsed": true
   },
   "outputs": [],
   "source": [
    "import uuid\n",
    "\n",
    "import pandas as pd\n",
    "import requests as r\n",
    "import json\n",
    "from time import sleep\n",
    "from IPython.display import clear_output\n",
    "import hashlib\n",
    "from pathlib import Path\n",
    "import sqlite3\n",
    "import random\n",
    "\n",
    "path = {\n",
    "    'users':'..\\\\data\\\\users',\n",
    "    'clean':'..\\\\data\\\\clean',\n",
    "    'database':'..\\\\database\\\\news.db'\n",
    "}\n",
    "\n",
    "Path('..\\\\data\\\\clean').mkdir(parents=True, exist_ok=True)\n",
    "Path('..\\\\data\\\\users').mkdir(parents=True, exist_ok=True)\n",
    "Path('..\\\\data\\\\clean\\\\pics').mkdir(parents=True, exist_ok=True)\n"
   ]
  },
  {
   "cell_type": "markdown",
   "metadata": {
    "collapsed": false
   },
   "source": [
    "## Delay requests"
   ]
  },
  {
   "cell_type": "code",
   "execution_count": null,
   "metadata": {
    "collapsed": false
   },
   "outputs": [],
   "source": [
    "users = []\n",
    "n_users = 150000\n",
    "users_per_req = 2000\n",
    "\n",
    "for index in range(0, int(n_users/users_per_req)):\n",
    "\n",
    "    users_json = r.get(f'https://randomuser.me/api/?results={users_per_req}&exc=phone,nat,id,registered').json()\n",
    "    if 'error' in users_json:\n",
    "        print(users_json['error'])\n",
    "        break\n",
    "    users.extend(users_json['results'])\n",
    "    clear_output(wait=True)\n",
    "    print(f'Generated users: {len(users)}')\n",
    "\n",
    "    sleep(30)\n",
    "\n",
    "with open(f\"{path['users']}\\\\users.json\", 'w') as fout:\n",
    "    json.dump(users, fout, indent=1)"
   ]
  },
  {
   "cell_type": "code",
   "execution_count": 67,
   "metadata": {
    "collapsed": false
   },
   "outputs": [],
   "source": [
    "for index in range(0,100):\n",
    "    pictures = r.get(f'https://randomuser.me/api/portraits/men/{index}.jpg'), r.get(f'https://randomuser.me/api/portraits/women/{index}.jpg')\n",
    "    with open(f\"{path['clean']}\\\\pics\\\\men_{index}.jpg\", 'wb') as f:\n",
    "        f.write(pictures[0].content)\n",
    "    with open(f\"{path['clean']}\\\\pics\\\\women_{index}.jpg\", 'wb') as f:\n",
    "        f.write(pictures[1].content)"
   ]
  },
  {
   "cell_type": "markdown",
   "metadata": {
    "collapsed": false
   },
   "source": [
    "## Data cleaning"
   ]
  },
  {
   "cell_type": "code",
   "execution_count": 3,
   "metadata": {
    "collapsed": false
   },
   "outputs": [],
   "source": [
    "with open(f\"{path['users']}\\\\users.json\", 'r') as fin:\n",
    "    users = json.load(fin)"
   ]
  },
  {
   "cell_type": "code",
   "execution_count": 36,
   "metadata": {
    "collapsed": false,
    "pycharm": {
     "name": "#%%\n"
    }
   },
   "outputs": [],
   "source": [
    "import pycountry\n",
    "import unicodedata\n",
    "\n",
    "fields = users[0].keys()\n",
    "\n",
    "sub_fields = [\n",
    "    None,\n",
    "     ['first', 'last'],\n",
    "     ['street', 'city', 'state', 'country', 'postcode'],\n",
    "     None,\n",
    "     ['password'],\n",
    "     ['date'],\n",
    "     None,\n",
    "     ['large']\n",
    "]\n",
    "\n",
    "users_filtered = []\n",
    "for user in users:\n",
    "    user_filtered = {}\n",
    "    for key, sub_keys in zip(fields, sub_fields):\n",
    "        if key == 'dob':\n",
    "             user_filtered['dateOfBirth'] = user[key]['date'].split('T')[0]\n",
    "        elif key == 'login':\n",
    "             user_filtered['password'] = hashlib.sha256(user['email'].split('@')[0].encode('UTF-8')).hexdigest()\n",
    "        elif key == 'name':\n",
    "            user_filtered['fullName'] = unicodedata.normalize('NFD', ' '.join([user[key][sub_key] for sub_key in sub_keys])).encode('ascii', 'ignore').decode(\"ASCII\")\n",
    "        elif (key == 'location') and (user[key]['country'] != 'Iran'):\n",
    "            user_filtered['country'] = pycountry.countries.get(name=user[key]['country']).alpha_2\n",
    "            user_filtered['location'] = f\"{user[key]['street']['name']}, {user[key]['street']['number']} - {user[key]['city']}, {user[key]['postcode']} {user_filtered['country']}\"\n",
    "        elif key == 'gender':\n",
    "            user_filtered[key] = user[key].capitalize()\n",
    "        elif key == 'cell':\n",
    "            user_filtered[key] = user[key]#.replace('-','').replace(' ', '').replace('(','').replace(')','')\n",
    "        # elif key == 'picture':\n",
    "        #     user_filtered[key] = '/'.join(user[key]['large'].split('/')[-2:])\n",
    "        elif sub_keys is None:\n",
    "            user_filtered[key] = user[key]\n",
    "        elif len(sub_keys) == 1:\n",
    "            user_filtered[key] = user[key][sub_keys[0]]\n",
    "            # user_filtered[key] = dict([(sub_key, user[key][sub_key]) for sub_key in sub_keys])\n",
    "\n",
    "    user_filtered['_id'] = user['login']['uuid']\n",
    "\n",
    "    if 'country' not in user_filtered:\n",
    "        continue\n",
    "\n",
    "    for key in user_filtered.keys():\n",
    "        user_filtered[key] = user_filtered[key].encode('ascii','xmlcharrefreplace').decode('ascii')\n",
    "\n",
    "    users_filtered.append(user_filtered)\n",
    "\n",
    "with open(f\"{path['clean']}\\\\users_filtered.json\", 'w') as fout:\n",
    "    json.dump(users_filtered, fout, indent=1)"
   ]
  },
  {
   "cell_type": "code",
   "execution_count": 37,
   "metadata": {
    "collapsed": false
   },
   "outputs": [],
   "source": [
    "with open(f\"{path['clean']}\\\\users_filtered.json\", 'r') as fin:\n",
    "    user_filtered = json.load(fin)\n",
    "\n",
    "with sqlite3.connect(path['database']) as conn:\n",
    "    user_df = pd.DataFrame(user_filtered)\n",
    "    user_df.to_sql('user', conn, if_exists='replace')"
   ]
  },
  {
   "cell_type": "code",
   "execution_count": 38,
   "metadata": {
    "collapsed": false
   },
   "outputs": [],
   "source": [
    "def dict_factory(cursor, row):\n",
    "    d = {}\n",
    "    for idx, col in enumerate(cursor.description):\n",
    "        d[col[0]] = row[idx]\n",
    "    return d\n",
    "\n",
    "with sqlite3.connect(path['database']) as conn:\n",
    "    conn.row_factory = dict_factory\n",
    "    cur = conn.cursor()\n",
    "    unique_users_male = cur.execute(\"select * from user where gender = 'Male' group by fullName \").fetchall()\n",
    "    unique_users_female = cur.execute(\"select * from user where gender ='Female' group by fullName \").fetchall()"
   ]
  },
  {
   "cell_type": "code",
   "execution_count": 40,
   "metadata": {
    "collapsed": false
   },
   "outputs": [],
   "source": [
    "import base64\n",
    "\n",
    "random.seed(0)\n",
    "random.shuffle(unique_users_male)\n",
    "random.shuffle(unique_users_female)\n",
    "\n",
    "reporters = unique_users_male[0:70] + unique_users_female[0:80]\n",
    "readers = unique_users_male[100:63100] + unique_users_female[100:82600 + 4500]\n",
    "\n",
    "for reader in readers[0:4500]:\n",
    "    reader['gender'] = 'Other'\n",
    "\n",
    "random.shuffle(reporters)\n",
    "random.shuffle(readers)\n",
    "\n",
    "index = {'Male': 0, 'Female':0}\n",
    "\n",
    "for reporter in reporters:\n",
    "    pic_path = f\"{path['clean']}\\\\pics\\\\reporters\\\\{'men' if reporter['gender'] == 'Male' else 'women'}_{index[reporter['gender']]}.jpg\"\n",
    "\n",
    "    with open(pic_path, 'rb') as fin:\n",
    "         encoded_pic = base64.b64encode(fin.read()).decode('utf-8')\n",
    "    index[reporter['gender']] += 1\n",
    "\n",
    "    reporter['picture'] = encoded_pic\n",
    "    reporter['reporterId'] = str(uuid.uuid4())\n",
    "\n",
    "reporters_df = pd.DataFrame(reporters).loc[:,['_id', 'email', 'password', 'fullName', 'gender', 'country', 'location', 'dateOfBirth', 'cell', 'picture', 'reporterId']]\n",
    "readers_df = pd.DataFrame(readers).loc[:,['_id', 'email', 'password', 'fullName', 'gender', 'country']]\n",
    "\n",
    "with open(f\"{path['clean']}\\\\reporters_clean.json\",'w') as fout:\n",
    "    json.dump(reporters_df.iloc[:,:].to_dict('records'), fout, indent=1)\n",
    "\n",
    "with open(f\"{path['clean']}\\\\readers_clean.json\",'w') as fout:\n",
    "    json.dump(readers_df.iloc[:,:].to_dict('records'), fout, indent=1)"
   ]
  },
  {
   "cell_type": "code",
   "execution_count": 3,
   "metadata": {
    "collapsed": false,
    "pycharm": {
     "name": "#%%\n"
    }
   },
   "outputs": [],
   "source": [
    "import requests as r\n",
    "import json\n",
    "\n",
    "HOSTNAME = '172.16.5.20'\n",
    "\n",
    "with open(f\"{path['clean']}\\\\reporters_clean.json\") as fin:\n",
    "    reporters = json.load(fin)\n",
    "\n",
    "session = r.session()\n",
    "login = session.post(f\"http://{HOSTNAME}:8080/SocialNews/login?email={'f.cristofani@socialnews.com'}&password={'admin'}&accessType={'admin'}\")\n",
    "\n",
    "for reporter in reporters:\n",
    "    reporter['password'] = reporter['email'].split('@')[0]\n",
    "    res = session.post(f'http://{HOSTNAME}:8080/SocialNews/admin/addReporter', json.dumps(reporter))\n",
    "\n",
    "session.close()"
   ]
  }
 ],
 "metadata": {
  "kernelspec": {
   "display_name": "Python 3",
   "language": "python",
   "name": "python3"
  },
  "language_info": {
   "codemirror_mode": {
    "name": "ipython",
    "version": 3
   },
   "file_extension": ".py",
   "mimetype": "text/x-python",
   "name": "python",
   "nbconvert_exporter": "python",
   "pygments_lexer": "ipython3",
   "version": "3.11.1"
  }
 },
 "nbformat": 4,
 "nbformat_minor": 0
}
